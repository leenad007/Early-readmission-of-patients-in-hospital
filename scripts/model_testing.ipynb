{
 "cells": [
  {
   "cell_type": "code",
   "execution_count": 1,
   "metadata": {},
   "outputs": [
    {
     "name": "stdout",
     "output_type": "stream",
     "text": [
      "['SQL Server', 'ODBC Driver 17 for SQL Server', 'SQL Server Native Client RDA 11.0', 'Microsoft Access Driver (*.mdb, *.accdb)', 'Microsoft Excel Driver (*.xls, *.xlsx, *.xlsm, *.xlsb)', 'Microsoft Access Text Driver (*.txt, *.csv)', 'Microsoft Access dBASE Driver (*.dbf, *.ndx, *.mdx)']\n"
     ]
    }
   ],
   "source": [
    "# Machine Learning Models\n",
    "from sklearn.linear_model import LogisticRegression\n",
    "import pandas as pd\n",
    "pd.set_option('display.max_rows', 100)\n",
    "pd.set_option('display.max_columns', 100)\n",
    "\n",
    "# Model Evaluation\n",
    "from sklearn.metrics import accuracy_score, precision_score, recall_score, roc_auc_score, f1_score, confusion_matrix, ConfusionMatrixDisplay\n",
    "\n",
    "from sklearn.metrics import make_scorer\n",
    " \n",
    "from sklearn.metrics import classification_report\n",
    "import random\n",
    "random.seed(100)\n",
    " \n",
    "import time\n",
    "import pyodbc\n",
    "print(pyodbc.drivers())\n",
    "import numpy as np\n",
    "import os\n",
    "import time\n",
    "import matplotlib.pyplot as plt\n",
    "import seaborn as sns\n",
    " \n",
    "# Data Preprocessing\n",
    "from sklearn.model_selection import train_test_split\n",
    "\n",
    "# mlflow\n",
    "import mlflow\n",
    "import mlflow.sklearn\n",
    "from sqlalchemy import create_engine, text"
   ]
  },
  {
   "cell_type": "code",
   "execution_count": 2,
   "metadata": {},
   "outputs": [
    {
     "data": {
      "text/plain": [
       "(16326, 27)"
      ]
     },
     "execution_count": 2,
     "metadata": {},
     "output_type": "execute_result"
    }
   ],
   "source": [
    "# Loading validation data\n",
    "val_data = pd.read_csv('../data/interim/Final_data_validation.csv')\n",
    "val_data.shape"
   ]
  },
  {
   "cell_type": "code",
   "execution_count": 3,
   "metadata": {},
   "outputs": [
    {
     "data": {
      "text/html": [
       "<div>\n",
       "<style scoped>\n",
       "    .dataframe tbody tr th:only-of-type {\n",
       "        vertical-align: middle;\n",
       "    }\n",
       "\n",
       "    .dataframe tbody tr th {\n",
       "        vertical-align: top;\n",
       "    }\n",
       "\n",
       "    .dataframe thead th {\n",
       "        text-align: right;\n",
       "    }\n",
       "</style>\n",
       "<table border=\"1\" class=\"dataframe\">\n",
       "  <thead>\n",
       "    <tr style=\"text-align: right;\">\n",
       "      <th></th>\n",
       "      <th>Unnamed: 0</th>\n",
       "      <th>encounter_id</th>\n",
       "      <th>patient_nbr</th>\n",
       "      <th>race</th>\n",
       "      <th>gender</th>\n",
       "      <th>time_in_hospital</th>\n",
       "      <th>num_lab_procedures</th>\n",
       "      <th>num_procedures</th>\n",
       "      <th>num_medications</th>\n",
       "      <th>number_diagnoses</th>\n",
       "      <th>max_glu_serum</th>\n",
       "      <th>A1Cresult</th>\n",
       "      <th>metformin</th>\n",
       "      <th>insulin</th>\n",
       "      <th>change</th>\n",
       "      <th>diabetesMed</th>\n",
       "      <th>readmitted</th>\n",
       "      <th>admission_type_desc</th>\n",
       "      <th>discharge_category</th>\n",
       "      <th>admission_category</th>\n",
       "      <th>Specialty_Group</th>\n",
       "      <th>payer_code_group</th>\n",
       "      <th>number_outpatient_log</th>\n",
       "      <th>number_inpatient_log</th>\n",
       "      <th>number_emergency_log</th>\n",
       "      <th>diag_3_cat</th>\n",
       "      <th>Patient_Age</th>\n",
       "    </tr>\n",
       "  </thead>\n",
       "  <tbody>\n",
       "    <tr>\n",
       "      <th>0</th>\n",
       "      <td>0</td>\n",
       "      <td>268763496</td>\n",
       "      <td>89048466</td>\n",
       "      <td>AfricanAmerican</td>\n",
       "      <td>Female</td>\n",
       "      <td>3</td>\n",
       "      <td>14</td>\n",
       "      <td>0</td>\n",
       "      <td>12</td>\n",
       "      <td>9</td>\n",
       "      <td>No</td>\n",
       "      <td>Norm</td>\n",
       "      <td>1</td>\n",
       "      <td>1</td>\n",
       "      <td>Ch</td>\n",
       "      <td>Yes</td>\n",
       "      <td>1</td>\n",
       "      <td>Emergency</td>\n",
       "      <td>Discharged to Home</td>\n",
       "      <td>Emergency Admission</td>\n",
       "      <td>Other</td>\n",
       "      <td>Government Programs</td>\n",
       "      <td>0.693147</td>\n",
       "      <td>0.693147</td>\n",
       "      <td>0.000000</td>\n",
       "      <td>Circulatory</td>\n",
       "      <td>52</td>\n",
       "    </tr>\n",
       "    <tr>\n",
       "      <th>1</th>\n",
       "      <td>1</td>\n",
       "      <td>268777020</td>\n",
       "      <td>50550156</td>\n",
       "      <td>Caucasian</td>\n",
       "      <td>Male</td>\n",
       "      <td>4</td>\n",
       "      <td>37</td>\n",
       "      <td>1</td>\n",
       "      <td>20</td>\n",
       "      <td>9</td>\n",
       "      <td>No</td>\n",
       "      <td>No</td>\n",
       "      <td>0</td>\n",
       "      <td>0</td>\n",
       "      <td>No</td>\n",
       "      <td>No</td>\n",
       "      <td>0</td>\n",
       "      <td>Emergency</td>\n",
       "      <td>Discharged to Home</td>\n",
       "      <td>Emergency Admission</td>\n",
       "      <td>Other</td>\n",
       "      <td>Self-Pay/Other</td>\n",
       "      <td>0.000000</td>\n",
       "      <td>0.000000</td>\n",
       "      <td>0.000000</td>\n",
       "      <td>Respiratory</td>\n",
       "      <td>54</td>\n",
       "    </tr>\n",
       "    <tr>\n",
       "      <th>2</th>\n",
       "      <td>2</td>\n",
       "      <td>268780680</td>\n",
       "      <td>67522518</td>\n",
       "      <td>Caucasian</td>\n",
       "      <td>Female</td>\n",
       "      <td>4</td>\n",
       "      <td>63</td>\n",
       "      <td>0</td>\n",
       "      <td>29</td>\n",
       "      <td>9</td>\n",
       "      <td>No</td>\n",
       "      <td>No</td>\n",
       "      <td>0</td>\n",
       "      <td>2</td>\n",
       "      <td>Ch</td>\n",
       "      <td>Yes</td>\n",
       "      <td>0</td>\n",
       "      <td>Emergency</td>\n",
       "      <td>Transfers to Other Healthcare Facilities</td>\n",
       "      <td>Emergency Admission</td>\n",
       "      <td>Other</td>\n",
       "      <td>Government Programs</td>\n",
       "      <td>0.000000</td>\n",
       "      <td>0.693147</td>\n",
       "      <td>0.693147</td>\n",
       "      <td>Genitourinary</td>\n",
       "      <td>88</td>\n",
       "    </tr>\n",
       "  </tbody>\n",
       "</table>\n",
       "</div>"
      ],
      "text/plain": [
       "   Unnamed: 0  encounter_id  patient_nbr             race  gender  \\\n",
       "0           0     268763496     89048466  AfricanAmerican  Female   \n",
       "1           1     268777020     50550156        Caucasian    Male   \n",
       "2           2     268780680     67522518        Caucasian  Female   \n",
       "\n",
       "   time_in_hospital  num_lab_procedures  num_procedures  num_medications  \\\n",
       "0                 3                  14               0               12   \n",
       "1                 4                  37               1               20   \n",
       "2                 4                  63               0               29   \n",
       "\n",
       "   number_diagnoses max_glu_serum A1Cresult  metformin  insulin change  \\\n",
       "0                 9            No      Norm          1        1     Ch   \n",
       "1                 9            No        No          0        0     No   \n",
       "2                 9            No        No          0        2     Ch   \n",
       "\n",
       "  diabetesMed  readmitted admission_type_desc  \\\n",
       "0         Yes           1           Emergency   \n",
       "1          No           0           Emergency   \n",
       "2         Yes           0           Emergency   \n",
       "\n",
       "                         discharge_category   admission_category  \\\n",
       "0                        Discharged to Home  Emergency Admission   \n",
       "1                        Discharged to Home  Emergency Admission   \n",
       "2  Transfers to Other Healthcare Facilities  Emergency Admission   \n",
       "\n",
       "  Specialty_Group     payer_code_group  number_outpatient_log  \\\n",
       "0           Other  Government Programs               0.693147   \n",
       "1           Other       Self-Pay/Other               0.000000   \n",
       "2           Other  Government Programs               0.000000   \n",
       "\n",
       "   number_inpatient_log  number_emergency_log     diag_3_cat  Patient_Age  \n",
       "0              0.693147              0.000000    Circulatory           52  \n",
       "1              0.000000              0.000000    Respiratory           54  \n",
       "2              0.693147              0.693147  Genitourinary           88  "
      ]
     },
     "execution_count": 3,
     "metadata": {},
     "output_type": "execute_result"
    }
   ],
   "source": [
    "val_data.head(3)"
   ]
  },
  {
   "cell_type": "code",
   "execution_count": 4,
   "metadata": {},
   "outputs": [],
   "source": [
    "val_data.drop(columns={'Unnamed: 0', 'patient_nbr','gender'}, inplace=True)"
   ]
  },
  {
   "cell_type": "code",
   "execution_count": 5,
   "metadata": {},
   "outputs": [
    {
     "data": {
      "text/plain": [
       "24"
      ]
     },
     "execution_count": 5,
     "metadata": {},
     "output_type": "execute_result"
    }
   ],
   "source": [
    "len(val_data.columns)"
   ]
  },
  {
   "cell_type": "code",
   "execution_count": 6,
   "metadata": {},
   "outputs": [
    {
     "data": {
      "text/plain": [
       "Index(['encounter_id', 'race', 'time_in_hospital', 'num_lab_procedures',\n",
       "       'num_procedures', 'num_medications', 'number_diagnoses',\n",
       "       'max_glu_serum', 'A1Cresult', 'metformin', 'insulin', 'change',\n",
       "       'diabetesMed', 'readmitted', 'admission_type_desc',\n",
       "       'discharge_category', 'admission_category', 'Specialty_Group',\n",
       "       'payer_code_group', 'number_outpatient_log', 'number_inpatient_log',\n",
       "       'number_emergency_log', 'diag_3_cat', 'Patient_Age'],\n",
       "      dtype='object')"
      ]
     },
     "execution_count": 6,
     "metadata": {},
     "output_type": "execute_result"
    }
   ],
   "source": [
    "val_data.columns"
   ]
  },
  {
   "cell_type": "code",
   "execution_count": 7,
   "metadata": {},
   "outputs": [
    {
     "data": {
      "text/plain": [
       "readmitted\n",
       "0    0.607313\n",
       "1    0.392687\n",
       "Name: proportion, dtype: float64"
      ]
     },
     "execution_count": 7,
     "metadata": {},
     "output_type": "execute_result"
    }
   ],
   "source": [
    "val_data['readmitted'].value_counts(normalize=True)"
   ]
  },
  {
   "cell_type": "code",
   "execution_count": 8,
   "metadata": {},
   "outputs": [],
   "source": [
    "# dropping unnecessary columns\n",
    "val_data.drop(columns= {'max_glu_serum', 'Specialty_Group'}, inplace=True)"
   ]
  },
  {
   "cell_type": "code",
   "execution_count": 9,
   "metadata": {},
   "outputs": [
    {
     "data": {
      "text/plain": [
       "Index(['race', 'A1Cresult', 'change', 'diabetesMed', 'admission_type_desc',\n",
       "       'discharge_category', 'admission_category', 'payer_code_group',\n",
       "       'diag_3_cat'],\n",
       "      dtype='object')"
      ]
     },
     "execution_count": 9,
     "metadata": {},
     "output_type": "execute_result"
    }
   ],
   "source": [
    "val_data.select_dtypes(include='object').columns"
   ]
  },
  {
   "cell_type": "code",
   "execution_count": 10,
   "metadata": {},
   "outputs": [
    {
     "data": {
      "text/plain": [
       "(16326, 41)"
      ]
     },
     "execution_count": 10,
     "metadata": {},
     "output_type": "execute_result"
    }
   ],
   "source": [
    "### One-hot encoding\n",
    "cat_cols = ['race', 'A1Cresult', 'change', 'diabetesMed',\n",
    "       'admission_type_desc', 'discharge_category', 'admission_category',\n",
    "       'payer_code_group', 'diag_3_cat']\n",
    "\n",
    "data_encoded = pd.get_dummies(val_data, columns = cat_cols, drop_first=True)\n",
    "data_encoded.shape"
   ]
  },
  {
   "cell_type": "code",
   "execution_count": 11,
   "metadata": {},
   "outputs": [],
   "source": [
    "X_val = data_encoded.drop(columns='readmitted')\n",
    "\n",
    "y_val = data_encoded['readmitted']"
   ]
  },
  {
   "cell_type": "code",
   "execution_count": 12,
   "metadata": {},
   "outputs": [],
   "source": [
    "## lOading model\n",
    "model = pd.read_pickle('../model/lr_model.pkl')"
   ]
  },
  {
   "cell_type": "code",
   "execution_count": 13,
   "metadata": {},
   "outputs": [
    {
     "name": "stdout",
     "output_type": "stream",
     "text": [
      "\n",
      "Logistic Regression Model Validation Report:\n",
      "              precision    recall  f1-score   support\n",
      "\n",
      "           0       0.75      0.46      0.57      9915\n",
      "           1       0.48      0.77      0.59      6411\n",
      "\n",
      "    accuracy                           0.58     16326\n",
      "   macro avg       0.62      0.61      0.58     16326\n",
      "weighted avg       0.65      0.58      0.58     16326\n",
      "\n",
      "Validation Accuracy: 0.5799950998407448\n",
      "Validation Precision: 0.4783158304161805\n",
      "Validation Recall: 0.7672749961004524\n",
      "Validation F1 Score: 0.5892782270140761\n"
     ]
    }
   ],
   "source": [
    "# Predictions\n",
    "y_prob_val = model.predict_proba(X_val.drop(['encounter_id'], axis=1))[:, 1]  # Probability of positive class\n",
    "y_pred_val = model.predict(X_val.drop(['encounter_id'], axis=1))\n",
    "y_pred_val = (y_prob_val >= 0.45).astype(int)\n",
    "\n",
    "\n",
    "# Metrics for validation Data\n",
    "print(\"\\nLogistic Regression Model Validation Report:\")\n",
    "print(classification_report(y_val, y_pred_val))\n",
    "print(f\"Validation Accuracy: {accuracy_score(y_val, y_pred_val)}\")\n",
    "print(f\"Validation Precision: {precision_score(y_val, y_pred_val)}\")\n",
    "print(f\"Validation Recall: {recall_score(y_val, y_pred_val)}\")\n",
    "print(f\"Validation F1 Score: {f1_score(y_val, y_pred_val)}\")"
   ]
  },
  {
   "cell_type": "code",
   "execution_count": 14,
   "metadata": {},
   "outputs": [],
   "source": [
    "_val_probabilities = model.predict_proba(X_val.drop(['encounter_id'], axis=1))[:, 1]\n",
    "\n",
    "X_val['Readmission_Probabilities'] = _val_probabilities\n"
   ]
  },
  {
   "cell_type": "code",
   "execution_count": 15,
   "metadata": {},
   "outputs": [],
   "source": [
    "decile_ranges = [\n",
    "    (0.709328, 1.0),  # Decile 1\n",
    "    (0.620649, 0.709294),  # Decile 2\n",
    "    (0.550039, 0.620640),  # Decile 3\n",
    "    (0.499012, 0.550039),  # Decile 4\n",
    "    (0.461631, 0.499006),  # Decile 5\n",
    "    (0.429849, 0.461628),  # Decile 6\n",
    "    (0.396432, 0.429846),  # Decile 7\n",
    "    (0.358978, 0.396431),  # Decile 8\n",
    "    (0.310055, 0.358972),  # Decile 9\n",
    "    (0.00, 0.309995)   # Decile 10\n",
    "]\n",
    "\n",
    "# FUnction to assign deciles based on training probability\n",
    "def assign_decile(prob):\n",
    "    for i, (min_val, max_val) in enumerate(decile_ranges, start=1):\n",
    "        if min_val <= prob <= max_val:\n",
    "            return i\n",
    "    return None  \n",
    "\n",
    "# Applying the function to assign deciles to validation probabilities\n",
    "X_val['Deciles'] = X_val['Readmission_Probabilities'].apply(assign_decile)\n"
   ]
  },
  {
   "cell_type": "code",
   "execution_count": 16,
   "metadata": {},
   "outputs": [],
   "source": [
    "X_val['Actual_Target'] = y_val\n",
    "X_val['Predicted_Target'] = y_pred_val"
   ]
  },
  {
   "cell_type": "code",
   "execution_count": 17,
   "metadata": {},
   "outputs": [],
   "source": [
    "X_val.to_clipboard()\n",
    "# Copying to excel for further analysis"
   ]
  },
  {
   "cell_type": "code",
   "execution_count": null,
   "metadata": {},
   "outputs": [],
   "source": []
  }
 ],
 "metadata": {
  "kernelspec": {
   "display_name": ".venv",
   "language": "python",
   "name": "python3"
  },
  "language_info": {
   "codemirror_mode": {
    "name": "ipython",
    "version": 3
   },
   "file_extension": ".py",
   "mimetype": "text/x-python",
   "name": "python",
   "nbconvert_exporter": "python",
   "pygments_lexer": "ipython3",
   "version": "3.10.0"
  }
 },
 "nbformat": 4,
 "nbformat_minor": 2
}
